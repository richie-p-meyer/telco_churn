{
 "cells": [
  {
   "cell_type": "markdown",
   "id": "premier-milan",
   "metadata": {},
   "source": [
    "# What is driving customer churn at Telco?\n"
   ]
  },
  {
   "cell_type": "markdown",
   "id": "going-assembly",
   "metadata": {},
   "source": [
    "## Imports"
   ]
  },
  {
   "cell_type": "code",
   "execution_count": 1,
   "id": "divided-poster",
   "metadata": {},
   "outputs": [],
   "source": [
    "# import libraries and modules\n",
    "import acquire\n",
    "import prepare\n",
    "import pandas as pd\n",
    "import numpy as np\n",
    "import matplotlib.pyplot as plt\n",
    "import seaborn as sns\n",
    "import scipy.stats as stats\n",
    "\n",
    "from sklearn.model_selection import train_test_split\n",
    "from sklearn.tree import DecisionTreeClassifier, plot_tree\n",
    "from sklearn.metrics import classification_report, confusion_matrix, plot_confusion_matrix, accuracy_score, precision_score, recall_score\n",
    "from sklearn.ensemble import RandomForestClassifier\n",
    "from sklearn.linear_model import LogisticRegression\n",
    "from sklearn.neighbors import KNeighborsClassifier\n",
    "\n"
   ]
  },
  {
   "cell_type": "markdown",
   "id": "criminal-glory",
   "metadata": {},
   "source": [
    "## Acquire\n"
   ]
  },
  {
   "cell_type": "markdown",
   "id": "8f581703",
   "metadata": {},
   "source": [
    "Import data from the telco_churn Database on the Codeup DB Server using a SQL query on 1/2/23"
   ]
  },
  {
   "cell_type": "code",
   "execution_count": 2,
   "id": "paperback-gather",
   "metadata": {},
   "outputs": [
    {
     "name": "stdout",
     "output_type": "stream",
     "text": [
      "Rows, Columns  (7043, 25) \n",
      "\n",
      "Index(['customer_id', 'payment_type_id', 'internet_service_type_id',\n",
      "       'contract_type_id', 'gender', 'senior_citizen', 'partner', 'dependents',\n",
      "       'tenure', 'phone_service', 'multiple_lines', 'online_security',\n",
      "       'online_backup', 'device_protection', 'tech_support', 'streaming_tv',\n",
      "       'streaming_movies', 'paperless_billing', 'monthly_charges',\n",
      "       'total_charges', 'churn', 'contract_type', 'internet_service_type',\n",
      "       'payment_type', 'churn_month'],\n",
      "      dtype='object')\n"
     ]
    }
   ],
   "source": [
    "# Acquire data \n",
    "df = acquire.get_telco_data()  # Import data using acquire file\n",
    "print('Rows, Columns ',df.shape,'\\n') #View shape of df\n",
    "print(df.columns) #View column names"
   ]
  },
  {
   "cell_type": "markdown",
   "id": "4451f07c",
   "metadata": {},
   "source": [
    "Our df has 7043 rows which each represent a customer. Our columns give us more information on each customer such as how much they pay each month, how much they've paid total, and how many addons they subscribe to above the basic internet subscription."
   ]
  },
  {
   "cell_type": "markdown",
   "id": "impossible-bible",
   "metadata": {},
   "source": [
    "## Prepare\n",
    "\n",
    "* List steps taken to clean your data here\n",
    "* In particular call out how you handle null values and outliers in detail\n",
    "* You must do this even if you do not do anything or do not encounter any\n",
    "* Any time there is potential to make changes to the data you must be upfront about the changes you make or do not make"
   ]
  },
  {
   "cell_type": "markdown",
   "id": "4ee2c1f2",
   "metadata": {},
   "source": [
    "1. Drop following columns: 'Unnamed: 0','payment_type_id', 'internet_service_type_id', 'contract_type_id','customer_id'  \n",
    "2. Turn 'total_charges' into a float. \n",
    "3. Create 'addons' column which sums the values from 'phone_service', 'multiple_lines', 'online_security','online_backup', 'device_protection', 'tech_support', 'streaming_tv', 'streaming_movies'  \n",
    "4. Create dummy values to use for Machine Learning\n",
    "\n",
    "There are no null values to deal with"
   ]
  },
  {
   "cell_type": "code",
   "execution_count": 3,
   "id": "flexible-irrigation",
   "metadata": {},
   "outputs": [],
   "source": [
    "df = prepare.prep_telco(df) # Clean df\n",
    "\n"
   ]
  },
  {
   "cell_type": "markdown",
   "id": "a4619b34",
   "metadata": {},
   "source": [
    "Split data into train, validate, and test in order to start exploring the questions"
   ]
  },
  {
   "cell_type": "code",
   "execution_count": 4,
   "id": "814ee442",
   "metadata": {},
   "outputs": [],
   "source": [
    "#split data into train, validate, test\n",
    "train, X_train, y_train, X_val, y_val, X_test, y_test = prepare.split_data(df,'churn') "
   ]
  },
  {
   "cell_type": "markdown",
   "id": "immediate-mirror",
   "metadata": {},
   "source": [
    "## Explore\n",
    "\n",
    "* Here you will explore your data then highlight 4 questions that you asked of the data and how those questions influenced your analysis\n",
    "* Remember to split your data before exploring how different variables relate to one another\n",
    "* Each question should be stated directly \n",
    "* Each question should be supported by a visualization\n",
    "* Each question should be answered in natural language\n",
    "* Two questions must be supported by a statistical test, but you may choose to support more than two\n",
    "* See the following example, and read the comments in the next cell"
   ]
  },
  {
   "cell_type": "markdown",
   "id": "c838a451",
   "metadata": {},
   "source": [
    "### Do customers with higher monthly_charges churn at a different rate?"
   ]
  },
  {
   "cell_type": "code",
   "execution_count": 5,
   "id": "ef6ab0fc",
   "metadata": {},
   "outputs": [
    {
     "data": {
      "text/plain": [
       "(64.91416434187154, 0.34814143245693563, 0.1600460564191134)"
      ]
     },
     "execution_count": 5,
     "metadata": {},
     "output_type": "execute_result"
    }
   ],
   "source": [
    "# Print out monthly_avg mean and churn rates of customers who pay above and below average per month\n",
    "monthly_avg = train.monthly_charges.mean()\n",
    "above_avg = train[train['monthly_charges']>monthly_avg].churn.mean()\n",
    "below_avg = train[train['monthly_charges']<monthly_avg].churn.mean()\n",
    "monthly_avg, above_avg, below_avg"
   ]
  },
  {
   "cell_type": "markdown",
   "id": "394203d4",
   "metadata": {},
   "source": [
    "The average monthly charges for all customers is $64.81. Customers who pay more than that churn at a rate of 34%. Customers who pay less churn at a rate of 16%"
   ]
  },
  {
   "cell_type": "code",
   "execution_count": 6,
   "id": "aff4f2c7",
   "metadata": {},
   "outputs": [
    {
     "data": {
      "text/plain": [
       "<AxesSubplot:title={'center':'Pay Less'}>"
      ]
     },
     "execution_count": 6,
     "metadata": {},
     "output_type": "execute_result"
    },
    {
     "data": {
      "image/png": "[encoded data removed]",
      "text/plain": [
       "<Figure size 432x288 with 2 Axes>"
      ]
     },
     "metadata": {
      "needs_background": "light"
     },
     "output_type": "display_data"
    }
   ],
   "source": [
    "# Create two bar charts\n",
    "fig, axes = plt.subplots(nrows=1, ncols=2)\n",
    "train[train['monthly_charges']>monthly_avg].churn.value_counts().plot(ax=axes[0], kind='bar',title='Pay More')\n",
    "train[train['monthly_charges']<monthly_avg].churn.value_counts().plot(ax=axes[1], kind='bar',title='Pay Less')"
   ]
  },
  {
   "cell_type": "markdown",
   "id": "ca3be4ff",
   "metadata": {},
   "source": [
    "There are more than double the amount of people who churn who pay more than average compared to paying less than average"
   ]
  },
  {
   "cell_type": "markdown",
   "id": "54030475",
   "metadata": {},
   "source": [
    "We will run a one-sample T-test to determine whether there is a stastically significant difference between the monthly charges of customers who churn compared to those who don't"
   ]
  },
  {
   "cell_type": "markdown",
   "id": "1d8435c4",
   "metadata": {},
   "source": [
    "Hypothesis:  \n",
    "H0: Churn is independent of monthly_charges  \n",
    "Ha: Churn is dependent on monthly_charges"
   ]
  },
  {
   "cell_type": "code",
   "execution_count": 7,
   "id": "3f1c1b1f",
   "metadata": {},
   "outputs": [
    {
     "name": "stdout",
     "output_type": "stream",
     "text": [
      "There is a statistically significant difference: alpha = .05, p = 0.0\n"
     ]
    }
   ],
   "source": [
    "# Run T-Test\n",
    "alpha = .05  #set alpha level\n",
    "churn_sample = train[train.churn == 1].monthly_charges  #setup monthly_charges for people who have churned\n",
    "overall_mean = train.monthly_charges.mean() #overall mean\n",
    "\n",
    "t, p = stats.ttest_1samp(churn_sample, overall_mean) #one-sample T-test\n",
    "\n",
    "if p < alpha:\n",
    "    print(f'There is a statistically significant difference: alpha = .05, p = {round(p,2)}')"
   ]
  },
  {
   "cell_type": "markdown",
   "id": "045e77b9",
   "metadata": {},
   "source": [
    "There is indeed a difference in monthly charges between customers who churn and those who don't"
   ]
  },
  {
   "cell_type": "markdown",
   "id": "2467a7cd",
   "metadata": {},
   "source": [
    "### Do customers with a partner or dependents churn at a different rate?"
   ]
  },
  {
   "cell_type": "code",
   "execution_count": 8,
   "id": "9b2c6825",
   "metadata": {},
   "outputs": [
    {
     "data": {
      "text/plain": [
       "<AxesSubplot:title={'center':'No Dependent or Partner'}>"
      ]
     },
     "execution_count": 8,
     "metadata": {},
     "output_type": "execute_result"
    },
    {
     "data": {
      "image/png": "[encoded data removed]",
      "text/plain": [
       "<Figure size 432x288 with 2 Axes>"
      ]
     },
     "metadata": {
      "needs_background": "light"
     },
     "output_type": "display_data"
    }
   ],
   "source": [
    "# Create two bar plots\n",
    "fig, axes = plt.subplots(nrows=1, ncols=2)\n",
    "train[(train.partner==1) | (train.dependents==1)].churn.value_counts().plot(ax=axes[0], kind='bar',title='With Dependent or Partner')\n",
    "\n",
    "train[(train.partner==0) & (train.dependents==0)].churn.value_counts().plot(ax=axes[1], kind='bar',title='No Dependent or Partner')"
   ]
  },
  {
   "cell_type": "markdown",
   "id": "5b2833c2",
   "metadata": {},
   "source": [
    "We will run a chi^2 test to see if there is a statistically significant relationship between churn and whether a customer has a dependent or partner"
   ]
  },
  {
   "cell_type": "markdown",
   "id": "bdab17e4",
   "metadata": {},
   "source": [
    "Hypothesis:  \n",
    "H0: Churn is independent of parner_dep  \n",
    "Ha: Churn is dependent on parner_dep"
   ]
  },
  {
   "cell_type": "code",
   "execution_count": 9,
   "id": "7756943a",
   "metadata": {
    "scrolled": true
   },
   "outputs": [
    {
     "name": "stdout",
     "output_type": "stream",
     "text": [
      "There is a statistically significant relationship\n"
     ]
    }
   ],
   "source": [
    "# Run chi2 test\n",
    "alpha = .05\n",
    "observed = pd.crosstab(train.churn, train.partner_dep)\n",
    "chi2, p, degf, expected = stats.chi2_contingency(observed)\n",
    "if p<alpha:\n",
    "    print('There is a statistically significant relationship')"
   ]
  },
  {
   "cell_type": "markdown",
   "id": "9fdc7ad5",
   "metadata": {},
   "source": [
    "Customers with no dependent or partner are churning at a higher rate than those without"
   ]
  },
  {
   "cell_type": "markdown",
   "id": "cdd60563",
   "metadata": {},
   "source": [
    "## What month are customers most likely to churn?"
   ]
  },
  {
   "cell_type": "code",
   "execution_count": 10,
   "id": "0f842a0e",
   "metadata": {},
   "outputs": [
    {
     "data": {
      "text/plain": [
       "churn_month\n",
       "2022-01-31     1046\n",
       "dtype: int64"
      ]
     },
     "execution_count": 10,
     "metadata": {},
     "output_type": "execute_result"
    }
   ],
   "source": [
    "# Value counts of churn\n",
    "train[train['churn']==1][['churn_month']].value_counts()"
   ]
  },
  {
   "cell_type": "markdown",
   "id": "adc61055",
   "metadata": {},
   "source": [
    "Every customer churned on the exact same date - Jan 31, 2022!"
   ]
  },
  {
   "cell_type": "markdown",
   "id": "4cf90754",
   "metadata": {},
   "source": [
    "## Do customers with more addons churn at a different rate?"
   ]
  },
  {
   "cell_type": "markdown",
   "id": "04e427a0",
   "metadata": {},
   "source": [
    "Run a chi square test to check for statistically significant relationship"
   ]
  },
  {
   "cell_type": "code",
   "execution_count": 11,
   "id": "1cadaa84",
   "metadata": {},
   "outputs": [
    {
     "data": {
      "text/plain": [
       "<AxesSubplot:xlabel='churn', ylabel='count'>"
      ]
     },
     "execution_count": 11,
     "metadata": {},
     "output_type": "execute_result"
    },
    {
     "data": {
      "image/png": "[encoded data removed]",
      "text/plain": [
       "<Figure size 432x288 with 1 Axes>"
      ]
     },
     "metadata": {
      "needs_background": "light"
     },
     "output_type": "display_data"
    }
   ],
   "source": [
    "# Create countplot between churn and addons\n",
    "sns.countplot(data=train,x='churn',hue='addons')"
   ]
  },
  {
   "cell_type": "markdown",
   "id": "c372db38",
   "metadata": {},
   "source": [
    "It looks like customers with only 1 addon are more likely to churn."
   ]
  },
  {
   "cell_type": "markdown",
   "id": "7b4a3b77",
   "metadata": {},
   "source": [
    "Hypothesis:  \n",
    "H0: Churn is independent of addons   \n",
    "Ha: Churn is dependent on addons"
   ]
  },
  {
   "cell_type": "code",
   "execution_count": 12,
   "id": "6fb70498",
   "metadata": {},
   "outputs": [
    {
     "name": "stdout",
     "output_type": "stream",
     "text": [
      "There is a statistically significant relationship\n"
     ]
    }
   ],
   "source": [
    "# Set alpha level and run chi2 test\n",
    "alpha = .05\n",
    "observed = pd.crosstab(train.churn,train.addons)\n",
    "chi2, p, degf, expected = stats.chi2_contingency(observed)\n",
    "if p<alpha:\n",
    "    print('There is a statistically significant relationship')"
   ]
  },
  {
   "cell_type": "markdown",
   "id": "ad2b6467",
   "metadata": {},
   "source": [
    "Some relationship exists between the number of addons and churn rate."
   ]
  },
  {
   "cell_type": "markdown",
   "id": "overhead-sleep",
   "metadata": {},
   "source": [
    "### 1) Question about the data\n",
    "* Ask a question about the data for which you got a meaningful result\n",
    "* There is no connection can be a meaningful result\n",
    "\n",
    "### 2) Visualization of the data answering the question\n",
    "\n",
    "* Visualizations should be accompanied by take-aways telling the reader exactly what you want them to get from the chart\n",
    "* You can include theses as bullet points under the chart\n",
    "* Use your chart title to provide the main take-away from each visualization\n",
    "* Each visualization should answer one, and only one, of the explore questions\n",
    "\n",
    "### 3) Statistical test\n",
    "* Be sure you are using the correct statistical test for the type of variables you are testing\n",
    "* Be sure that you are not violating any of the assumptions for the statistical test you are choosing\n",
    "* Your notebook should run and produce the results of the test you are using (This may be done through imports)\n",
    "* Include an introduction to the kind of test you are doing\n",
    "* Include the Ho and Ha for the test\n",
    "* Include the alpha you are using\n",
    "* Include the readout of the p-value for the test\n",
    "* Interpret the results of the test in natural language (I reject the null hypothesis is not sufficient)\n",
    "\n",
    "### 4) Answer to the question\n",
    "* Answer the question you posed of the data by referring to the chart and statistical test (if you used one)\n",
    "* If the question relates to drivers, explain why the feature in question would/wouldn't make a good driver"
   ]
  },
  {
   "cell_type": "markdown",
   "id": "iraqi-sellers",
   "metadata": {},
   "source": [
    "## Exploration Summary\n",
    "* After your explore section, before you start modeling, provide a summary of your findings in Explore\n",
    "* Include a summary of your take-aways\n",
    "* Include a summary of the features you examined and weather or not you will be going to Modeling with each feature and why\n",
    "* It is important to note which features will be going into your model so the reader knows what features you are using to model on"
   ]
  },
  {
   "cell_type": "markdown",
   "id": "minus-tulsa",
   "metadata": {},
   "source": [
    "## Modeling"
   ]
  },
  {
   "cell_type": "markdown",
   "id": "hydraulic-spectrum",
   "metadata": {},
   "source": [
    "### Introduction\n",
    "* Explain how you will be evaluating your models\n",
    "* Include the evaluation metric you will be using and why you have chosen it\n",
    "* Create a baseline and briefly explain how it was calculated "
   ]
  },
  {
   "cell_type": "code",
   "execution_count": 13,
   "id": "ranging-rebecca",
   "metadata": {},
   "outputs": [],
   "source": [
    "# If you use code to generate your baseline run the code and generate the output here"
   ]
  },
  {
   "cell_type": "markdown",
   "id": "thick-dream",
   "metadata": {},
   "source": [
    "Printout should read: <br>\n",
    "Baseline: \"number\" \"evaluation metric\""
   ]
  },
  {
   "cell_type": "markdown",
   "id": "emotional-purchase",
   "metadata": {},
   "source": [
    "### Best 3 Models\n",
    "* Show the three best model results obtained using your selected features to predict the target variable\n",
    "* Typically students will show the top models they are able to generate for three different model types"
   ]
  },
  {
   "cell_type": "markdown",
   "id": "gentle-capability",
   "metadata": {},
   "source": [
    "## You may use this as a template for how to introduce your models:"
   ]
  },
  {
   "cell_type": "code",
   "execution_count": 14,
   "id": "98baff8a",
   "metadata": {},
   "outputs": [],
   "source": [
    "# Remove object dtypes from my dfs\n",
    "X_train = X_train.select_dtypes(exclude ='object')\n",
    "X_val = X_val.select_dtypes(exclude ='object')\n",
    "X_test = X_test.select_dtypes(exclude ='object')"
   ]
  },
  {
   "cell_type": "markdown",
   "id": "intensive-vietnamese",
   "metadata": {},
   "source": [
    "### Model Type"
   ]
  },
  {
   "cell_type": "code",
   "execution_count": 39,
   "id": "colonial-newport",
   "metadata": {},
   "outputs": [
    {
     "name": "stdout",
     "output_type": "stream",
     "text": [
      "Accuracy of Random Forest classifier on training set: 0.77\n",
      "Accuracy of Random Forest classifier on validate set: 0.77\n"
     ]
    }
   ],
   "source": [
    "rf = RandomForestClassifier(bootstrap=True, \n",
    "                            class_weight=None, \n",
    "                            criterion='gini',\n",
    "                            min_samples_leaf=3,\n",
    "                            n_estimators=100,\n",
    "                            max_depth=3, \n",
    "                            random_state=21)\n",
    "\n",
    "rf.fit(X_train, y_train)\n",
    "y_pred = rf.predict(X_train)\n",
    "y_pred_proba = rf.predict_proba(X_train)\n",
    "print('Accuracy of Random Forest classifier on training set: {:.2f}'\n",
    "     .format(rf.score(X_train, y_train)))\n",
    "print('Accuracy of Random Forest classifier on validate set: {:.2f}'\n",
    "     .format(rf.score(X_val, y_val)))\n",
    "\n"
   ]
  },
  {
   "cell_type": "code",
   "execution_count": 38,
   "id": "ba5dc2e1",
   "metadata": {},
   "outputs": [
    {
     "name": "stdout",
     "output_type": "stream",
     "text": [
      "Accuracy of Logistic Regression classifier on training set: 0.36\n",
      "Accuracy of Logistic Regression classifier on validation set: 0.36\n"
     ]
    }
   ],
   "source": [
    "# LogisticRegression\n",
    "lr = LogisticRegression(C=1, class_weight={0:1, 1:99}, random_state=21, intercept_scaling=1, solver='lbfgs',max_iter=500)\n",
    "lr.fit(X_train, y_train)\n",
    "y_pred = lr.predict(X_train)\n",
    "y_pred_proba = lr.predict_proba(X_train)\n",
    "print('Accuracy of Logistic Regression classifier on training set: {:.2f}'\n",
    "     .format(lr.score(X_train, y_train)))\n",
    "print('Accuracy of Logistic Regression classifier on validation set: {:.2f}'\n",
    "     .format(lr.score(X_val, y_val)))\n",
    "\n",
    "\n",
    "\n"
   ]
  },
  {
   "cell_type": "code",
   "execution_count": 45,
   "id": "5b7ea0fa",
   "metadata": {},
   "outputs": [
    {
     "name": "stdout",
     "output_type": "stream",
     "text": [
      "Accuracy of KNN classifier on training set: 0.80\n",
      "Accuracy of KNN classifier on validate set: 0.79\n",
      "Accuracy of KNN classifier on test set: 0.78\n"
     ]
    }
   ],
   "source": [
    "# K-Nearest Neighbor\n",
    "knn = KNeighborsClassifier(n_neighbors=15, weights='uniform')\n",
    "knn.fit(X_train, y_train)\n",
    "\n",
    "print('Accuracy of KNN classifier on training set: {:.2f}'\n",
    "     .format(knn.score(X_train, y_train)))\n",
    "print('Accuracy of KNN classifier on validate set: {:.2f}'\n",
    "     .format(knn.score(X_val, y_val)))\n",
    "print('Accuracy of KNN classifier on test set: {:.2f}'\n",
    "     .format(knn.score(X_test, y_test)))"
   ]
  },
  {
   "cell_type": "code",
   "execution_count": 41,
   "id": "337d4624",
   "metadata": {},
   "outputs": [
    {
     "data": {
      "image/png": "[encoded data removed]",
      "text/plain": [
       "<Figure size 432x288 with 1 Axes>"
      ]
     },
     "metadata": {
      "needs_background": "light"
     },
     "output_type": "display_data"
    }
   ],
   "source": [
    "# Plot accuracy levels for different n_neighbors levels\n",
    "k_range = range(1, 20)\n",
    "scores = []\n",
    "for k in k_range:\n",
    "    knn = KNeighborsClassifier(n_neighbors = k)\n",
    "    knn.fit(X_train, y_train)\n",
    "    scores.append(knn.score(X_test, y_test))\n",
    "plt.figure()\n",
    "plt.xlabel('k')\n",
    "plt.ylabel('accuracy')\n",
    "plt.scatter(k_range, scores)\n",
    "plt.xticks([0,5,10,15,20])\n",
    "plt.show()"
   ]
  },
  {
   "cell_type": "markdown",
   "id": "distinguished-abuse",
   "metadata": {},
   "source": [
    "Printout of model code should read: <br>\n",
    "\"Model Type\" <br>\n",
    "\"evaluation metric\" on train: \"evaluation result\" <br>\n",
    "\"evaluation metric\" on validate: \"evaluation result\""
   ]
  },
  {
   "cell_type": "markdown",
   "id": "regulated-fellowship",
   "metadata": {},
   "source": [
    "### Test Model\n",
    "* Choose the best model out of the three as you best model and explain why you have chosen it\n",
    "* Explain that you will now run your final model on test data to gauge how it will perform on unseen data"
   ]
  },
  {
   "cell_type": "code",
   "execution_count": 18,
   "id": "optical-quilt",
   "metadata": {},
   "outputs": [],
   "source": [
    "# Code that runs the best overall model on test data (this may be imported from a module)"
   ]
  },
  {
   "cell_type": "markdown",
   "id": "motivated-recycling",
   "metadata": {},
   "source": [
    "Printout of model code should read: <br>\n",
    "\"Model Type\" <br>\n",
    "\"evaluation metric\" on Test: \"evaluation result\" <br>"
   ]
  },
  {
   "cell_type": "markdown",
   "id": "bright-evans",
   "metadata": {},
   "source": [
    "### Modeling Wrap \n",
    "* Give a final interpretation of how the models test score compares to the baseline and weather you would recommend this model for production"
   ]
  },
  {
   "cell_type": "markdown",
   "id": "tutorial-twelve",
   "metadata": {},
   "source": [
    "## Conclusion\n",
    "\n",
    "### Summery\n",
    "* Summarize your findings and answer the questions you brought up in explore \n",
    "* Summarize how drivers discovered lead or did not lead to a successful model \n",
    "\n",
    "### Recommendations\n",
    "* Recommendations are actions the stakeholder should take based on your insights\n",
    "\n",
    "### Next Steps\n",
    "* Next Steps are what you, as a Data Scientist, would do if provided more time to work on the project"
   ]
  },
  {
   "cell_type": "markdown",
   "id": "tender-source",
   "metadata": {},
   "source": [
    "**Where there is code in your report there should also be code comments telling the reader what each code block is doing. This is true for any and all code blocks even if you are using a function to import code from a module.**\n",
    "<br>\n",
    "<br>\n",
    "**Your Notebook should contain adequate markdown that documents your thought process, decision making, and navigation through the pipeline. As a Data Scientist, your job does not end with making data discoveries. It includes effectively communicating those discoveries as well. This means documentation is a critical part of your job.**"
   ]
  },
  {
   "cell_type": "code",
   "execution_count": null,
   "id": "25c391dc",
   "metadata": {},
   "outputs": [],
   "source": []
  },
  {
   "cell_type": "raw",
   "id": "dd7a418e",
   "metadata": {},
   "source": [
    "# README\n",
    "\n",
    "Your README should contain all of the following elements:\n",
    "\n",
    "* **Title** Gives the name of your project\n",
    "* **Project Description** Describes what your project is and why it is important \n",
    "* **Project Goal** Clearly states what your project sets out to do and how the information gained can be applied to the real world\n",
    "* **Initial Hypotheses** Initial questions used to focus your project \n",
    "* **Project Plan** Guides the reader through the different stages of the pipeline as they relate to your project\n",
    "* **Data Dictionary** Gives a definition for each of the features used in your report and the units they are measured in, if applicable\n",
    "* **Steps to Reproduce** Gives instructions for reproducing your work. i.e. Running your notebook on someone else's computer."
   ]
  }
 ],
 "metadata": {
  "kernelspec": {
   "display_name": "Python 3 (ipykernel)",
   "language": "python",
   "name": "python3"
  },
  "language_info": {
   "codemirror_mode": {
    "name": "ipython",
    "version": 3
   },
   "file_extension": ".py",
   "mimetype": "text/x-python",
   "name": "python",
   "nbconvert_exporter": "python",
   "pygments_lexer": "ipython3",
   "version": "3.9.7"
  }
 },
 "nbformat": 4,
 "nbformat_minor": 5
}
