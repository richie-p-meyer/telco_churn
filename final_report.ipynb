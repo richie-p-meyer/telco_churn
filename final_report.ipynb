{
 "cells": [
  {
   "cell_type": "markdown",
   "id": "premier-milan",
   "metadata": {},
   "source": [
    "# What is driving customer churn at Telco?\n",
    "\n",
    "### 4 Questions\n"
   ]
  },
  {
   "cell_type": "markdown",
   "id": "402cc79b",
   "metadata": {},
   "source": [
    "1. Do customers with higher monthly_charges churn at a different rate?    \n",
    "2. Do customers with a partner or dependents churn at a different rate?  \n",
    "3. What month are customers most likely to churn?  \n",
    "4. Do customers with more addons churn at a different rate?  "
   ]
  },
  {
   "cell_type": "markdown",
   "id": "ddd7da59",
   "metadata": {},
   "source": [
    "### All relationships were statistically significant which is odd\n",
    "### All customers churned in the same month which is very odd"
   ]
  },
  {
   "cell_type": "markdown",
   "id": "going-assembly",
   "metadata": {},
   "source": [
    "## Imports"
   ]
  },
  {
   "cell_type": "code",
   "execution_count": 1,
   "id": "divided-poster",
   "metadata": {},
   "outputs": [],
   "source": [
    "# import libraries and modules\n",
    "import acquire\n",
    "import prepare\n",
    "import pandas as pd\n",
    "import numpy as np\n",
    "import matplotlib.pyplot as plt\n",
    "import seaborn as sns\n",
    "import scipy.stats as stats\n",
    "\n",
    "from sklearn.model_selection import train_test_split\n",
    "from sklearn.tree import DecisionTreeClassifier, plot_tree\n",
    "from sklearn.metrics import classification_report, confusion_matrix, plot_confusion_matrix, accuracy_score, precision_score, recall_score\n",
    "from sklearn.ensemble import RandomForestClassifier\n",
    "from sklearn.linear_model import LogisticRegression\n",
    "from sklearn.neighbors import KNeighborsClassifier\n",
    "\n"
   ]
  },
  {
   "cell_type": "markdown",
   "id": "criminal-glory",
   "metadata": {},
   "source": [
    "## Acquire\n"
   ]
  },
  {
   "cell_type": "markdown",
   "id": "6ddf13b1",
   "metadata": {},
   "source": [
    "Import data from the telco_churn Database on the Codeup DB Server using a SQL query on 1/2/23"
   ]
  },
  {
   "cell_type": "code",
   "execution_count": 2,
   "id": "paperback-gather",
   "metadata": {},
   "outputs": [
    {
     "name": "stdout",
     "output_type": "stream",
     "text": [
      "Rows, Columns  (7043, 25) \n",
      "\n",
      "Index(['customer_id', 'payment_type_id', 'internet_service_type_id',\n",
      "       'contract_type_id', 'gender', 'senior_citizen', 'partner', 'dependents',\n",
      "       'tenure', 'phone_service', 'multiple_lines', 'online_security',\n",
      "       'online_backup', 'device_protection', 'tech_support', 'streaming_tv',\n",
      "       'streaming_movies', 'paperless_billing', 'monthly_charges',\n",
      "       'total_charges', 'churn', 'contract_type', 'internet_service_type',\n",
      "       'payment_type', 'churn_month'],\n",
      "      dtype='object')\n"
     ]
    }
   ],
   "source": [
    "# Acquire data \n",
    "df = acquire.get_telco_data()  # Import data using acquire file\n",
    "print('Rows, Columns ',df.shape,'\\n') #View shape of df\n",
    "print(df.columns) #View column names"
   ]
  },
  {
   "cell_type": "markdown",
   "id": "897556db",
   "metadata": {},
   "source": [
    "Our df has 7043 rows which each represent a customer. Our columns give us more information on each customer such as how much they pay each month, how much they've paid total, and how many addons they subscribe to above the basic internet subscription."
   ]
  },
  {
   "cell_type": "markdown",
   "id": "impossible-bible",
   "metadata": {},
   "source": [
    "## Prepare\n",
    "\n",
    "* List steps taken to clean your data here\n",
    "* In particular call out how you handle null values and outliers in detail\n",
    "* You must do this even if you do not do anything or do not encounter any\n",
    "* Any time there is potential to make changes to the data you must be upfront about the changes you make or do not make"
   ]
  },
  {
   "cell_type": "markdown",
   "id": "f463fdcc",
   "metadata": {},
   "source": [
    "1. Drop following columns: 'Unnamed: 0','payment_type_id', 'internet_service_type_id', 'contract_type_id','customer_id'  \n",
    "2. Turn 'total_charges' into a float. \n",
    "3. Create 'addons' column which sums the values from 'phone_service', 'multiple_lines', 'online_security','online_backup', 'device_protection', 'tech_support', 'streaming_tv', 'streaming_movies'  \n",
    "4. Create dummy values to use for Machine Learning\n",
    "\n",
    "There are no null values to deal with"
   ]
  },
  {
   "cell_type": "code",
   "execution_count": 3,
   "id": "flexible-irrigation",
   "metadata": {},
   "outputs": [],
   "source": [
    "df, customer_id = prepare.prep_telco(df) # Clean df\n"
   ]
  },
  {
   "cell_type": "markdown",
   "id": "db5351a2",
   "metadata": {},
   "source": [
    "Split data into train, validate, and test in order to start exploring the questions"
   ]
  },
  {
   "cell_type": "code",
   "execution_count": 4,
   "id": "fcb35cbe",
   "metadata": {},
   "outputs": [],
   "source": [
    "#split data into full, train, validate, test\n",
    "full, train, X_train, y_train, X_val, y_val, X_test, y_test = prepare.split_data(df,'churn') "
   ]
  },
  {
   "cell_type": "markdown",
   "id": "immediate-mirror",
   "metadata": {},
   "source": [
    "## Explore\n"
   ]
  },
  {
   "cell_type": "markdown",
   "id": "4eb493c9",
   "metadata": {},
   "source": [
    "### Do customers with higher monthly_charges churn at a different rate?"
   ]
  },
  {
   "cell_type": "code",
   "execution_count": 5,
   "id": "969cfc79",
   "metadata": {},
   "outputs": [
    {
     "data": {
      "text/plain": [
       "(64.91416434187154, 0.34814143245693563, 0.1600460564191134)"
      ]
     },
     "execution_count": 5,
     "metadata": {},
     "output_type": "execute_result"
    }
   ],
   "source": [
    "# Print out monthly_avg mean and churn rates of customers who pay above and below average per month\n",
    "monthly_avg = train.monthly_charges.mean()\n",
    "above_avg = train[train['monthly_charges']>monthly_avg].churn.mean()\n",
    "below_avg = train[train['monthly_charges']<monthly_avg].churn.mean()\n",
    "monthly_avg, above_avg, below_avg"
   ]
  },
  {
   "cell_type": "markdown",
   "id": "c5b1919d",
   "metadata": {},
   "source": [
    "The average monthly charges for all customers is $64.81. Customers who pay more than that churn at a rate of 34%. Customers who pay less churn at a rate of 16%"
   ]
  },
  {
   "cell_type": "code",
   "execution_count": 6,
   "id": "3962cc93",
   "metadata": {},
   "outputs": [
    {
     "data": {
      "text/plain": [
       "<AxesSubplot:title={'center':'Pay Less'}>"
      ]
     },
     "execution_count": 6,
     "metadata": {},
     "output_type": "execute_result"
    },
    {
     "data": {
      "image/png": "[encoded data removed]",
      "text/plain": [
       "<Figure size 432x288 with 2 Axes>"
      ]
     },
     "metadata": {
      "needs_background": "light"
     },
     "output_type": "display_data"
    }
   ],
   "source": [
    "# Create two bar charts\n",
    "fig, axes = plt.subplots(nrows=1, ncols=2)\n",
    "train[train['monthly_charges']>monthly_avg].churn.value_counts().plot(ax=axes[0], kind='bar',title='Pay More')\n",
    "train[train['monthly_charges']<monthly_avg].churn.value_counts().plot(ax=axes[1], kind='bar',title='Pay Less')"
   ]
  },
  {
   "cell_type": "markdown",
   "id": "15903559",
   "metadata": {},
   "source": [
    "There are more than double the amount of people who churn who pay more than average compared to paying less than average"
   ]
  },
  {
   "cell_type": "markdown",
   "id": "216180e2",
   "metadata": {},
   "source": [
    "We will run a one-sample T-test to determine whether there is a stastically significant difference between the monthly charges of customers who churn compared to those who don't"
   ]
  },
  {
   "cell_type": "markdown",
   "id": "bcec2db3",
   "metadata": {},
   "source": [
    "Hypothesis:  \n",
    "H0: Churn is independent of monthly_charges  \n",
    "Ha: Churn is dependent on monthly_charges"
   ]
  },
  {
   "cell_type": "code",
   "execution_count": 7,
   "id": "04094f97",
   "metadata": {},
   "outputs": [
    {
     "name": "stdout",
     "output_type": "stream",
     "text": [
      "There is a statistically significant difference: alpha = .05, p = 0.0\n"
     ]
    }
   ],
   "source": [
    "# Run T-Test\n",
    "alpha = .05  #set alpha level\n",
    "churn_sample = train[train.churn == 1].monthly_charges  #setup monthly_charges for people who have churned\n",
    "overall_mean = train.monthly_charges.mean() #overall mean\n",
    "\n",
    "t, p = stats.ttest_1samp(churn_sample, overall_mean) #one-sample T-test\n",
    "\n",
    "if p < alpha:\n",
    "    print(f'There is a statistically significant difference: alpha = .05, p = {round(p,2)}')"
   ]
  },
  {
   "cell_type": "markdown",
   "id": "67cbc8f1",
   "metadata": {},
   "source": [
    "There is indeed a difference in monthly charges between customers who churn and those who don't"
   ]
  },
  {
   "cell_type": "markdown",
   "id": "db5225de",
   "metadata": {},
   "source": [
    "### Do customers with a partner or dependents churn at a different rate?"
   ]
  },
  {
   "cell_type": "code",
   "execution_count": 8,
   "id": "01b3f1f7",
   "metadata": {},
   "outputs": [
    {
     "data": {
      "text/plain": [
       "<AxesSubplot:title={'center':'No Dependent or Partner'}>"
      ]
     },
     "execution_count": 8,
     "metadata": {},
     "output_type": "execute_result"
    },
    {
     "data": {
      "image/png": "[encoded data removed]",
      "text/plain": [
       "<Figure size 432x288 with 2 Axes>"
      ]
     },
     "metadata": {
      "needs_background": "light"
     },
     "output_type": "display_data"
    }
   ],
   "source": [
    "# Create two bar plots\n",
    "fig, axes = plt.subplots(nrows=1, ncols=2)\n",
    "train[(train.partner==1) | (train.dependents==1)].churn.value_counts().plot(ax=axes[0], kind='bar',title='With Dependent or Partner')\n",
    "\n",
    "train[(train.partner==0) & (train.dependents==0)].churn.value_counts().plot(ax=axes[1], kind='bar',title='No Dependent or Partner')"
   ]
  },
  {
   "cell_type": "markdown",
   "id": "085f5315",
   "metadata": {},
   "source": [
    "We will run a chi^2 test to see if there is a statistically significant relationship between churn and whether a customer has a dependent or partner"
   ]
  },
  {
   "cell_type": "markdown",
   "id": "d6f06121",
   "metadata": {},
   "source": [
    "Hypothesis:  \n",
    "H0: Churn is independent of parner_dep  \n",
    "Ha: Churn is dependent on parner_dep"
   ]
  },
  {
   "cell_type": "code",
   "execution_count": 9,
   "id": "16bd012f",
   "metadata": {
    "scrolled": true
   },
   "outputs": [
    {
     "name": "stdout",
     "output_type": "stream",
     "text": [
      "There is a statistically significant relationship\n"
     ]
    }
   ],
   "source": [
    "# Run chi2 test\n",
    "alpha = .05\n",
    "observed = pd.crosstab(train.churn, train.partner_dep)\n",
    "chi2, p, degf, expected = stats.chi2_contingency(observed)\n",
    "if p<alpha:\n",
    "    print('There is a statistically significant relationship')"
   ]
  },
  {
   "cell_type": "markdown",
   "id": "ef48a9fa",
   "metadata": {},
   "source": [
    "Customers with no dependent or partner are churning at a higher rate than those without"
   ]
  },
  {
   "cell_type": "markdown",
   "id": "76529ab3",
   "metadata": {},
   "source": [
    "## What month are customers most likely to churn?"
   ]
  },
  {
   "cell_type": "code",
   "execution_count": 10,
   "id": "65364f31",
   "metadata": {},
   "outputs": [
    {
     "data": {
      "text/plain": [
       "churn_month\n",
       "2022-01-31     1046\n",
       "dtype: int64"
      ]
     },
     "execution_count": 10,
     "metadata": {},
     "output_type": "execute_result"
    }
   ],
   "source": [
    "# Value counts of churn\n",
    "train[train['churn']==1][['churn_month']].value_counts()"
   ]
  },
  {
   "cell_type": "markdown",
   "id": "f38e645f",
   "metadata": {},
   "source": [
    "Every customer churned on the exact same date - Jan 31, 2022!"
   ]
  },
  {
   "cell_type": "markdown",
   "id": "64e4c86a",
   "metadata": {},
   "source": [
    "## Do customers with more addons churn at a different rate?"
   ]
  },
  {
   "cell_type": "markdown",
   "id": "f27b30b5",
   "metadata": {},
   "source": [
    "Run a chi square test to check for statistically significant relationship"
   ]
  },
  {
   "cell_type": "code",
   "execution_count": 11,
   "id": "8a4bef23",
   "metadata": {},
   "outputs": [
    {
     "data": {
      "text/plain": [
       "<AxesSubplot:xlabel='churn', ylabel='count'>"
      ]
     },
     "execution_count": 11,
     "metadata": {},
     "output_type": "execute_result"
    },
    {
     "data": {
      "image/png": "[encoded data removed]",
      "text/plain": [
       "<Figure size 432x288 with 1 Axes>"
      ]
     },
     "metadata": {
      "needs_background": "light"
     },
     "output_type": "display_data"
    }
   ],
   "source": [
    "# Create countplot between churn and addons\n",
    "sns.countplot(data=train,x='churn',hue='addons')"
   ]
  },
  {
   "cell_type": "markdown",
   "id": "3aed5f04",
   "metadata": {},
   "source": [
    "It looks like customers with only 1 addon churn at a different rate."
   ]
  },
  {
   "cell_type": "markdown",
   "id": "be5bc11d",
   "metadata": {},
   "source": [
    "Hypothesis:  \n",
    "H0: Churn is independent of addons   \n",
    "Ha: Churn is dependent on addons"
   ]
  },
  {
   "cell_type": "code",
   "execution_count": 12,
   "id": "c8f06cd8",
   "metadata": {},
   "outputs": [
    {
     "name": "stdout",
     "output_type": "stream",
     "text": [
      "There is a statistically significant relationship\n"
     ]
    }
   ],
   "source": [
    "# Set alpha level and run chi2 test\n",
    "alpha = .05\n",
    "observed = pd.crosstab(train.churn,train.addons)\n",
    "chi2, p, degf, expected = stats.chi2_contingency(observed)\n",
    "if p<alpha:\n",
    "    print('There is a statistically significant relationship')"
   ]
  },
  {
   "cell_type": "markdown",
   "id": "e9ab26a6",
   "metadata": {},
   "source": [
    "Some relationship exists between the number of addons and churn rate."
   ]
  },
  {
   "cell_type": "markdown",
   "id": "iraqi-sellers",
   "metadata": {},
   "source": [
    "## Exploration Summary\n",
    "\n",
    "- Every feature I explored was statistically significant which is odd\n",
    "- Every customer churned in the same month which is odd"
   ]
  },
  {
   "cell_type": "markdown",
   "id": "minus-tulsa",
   "metadata": {},
   "source": [
    "## Modeling"
   ]
  },
  {
   "cell_type": "markdown",
   "id": "hydraulic-spectrum",
   "metadata": {},
   "source": [
    "### Introduction\n"
   ]
  },
  {
   "cell_type": "markdown",
   "id": "23734869",
   "metadata": {},
   "source": [
    "Create a baseline model which predicts that the customer will not churn"
   ]
  },
  {
   "cell_type": "code",
   "execution_count": 13,
   "id": "ranging-rebecca",
   "metadata": {},
   "outputs": [
    {
     "name": "stdout",
     "output_type": "stream",
     "text": [
      "Baseline: 0.73 evaluation metric\n"
     ]
    }
   ],
   "source": [
    "# Find the percent of customers who have churned - our baseline\n",
    "print(f'Baseline: {1-round(df.churn.sum()/df.shape[0],2)} evaluation metric')"
   ]
  },
  {
   "cell_type": "code",
   "execution_count": 14,
   "id": "1a0b8e00",
   "metadata": {},
   "outputs": [],
   "source": [
    "# Remove object dtypes from my dfs\n",
    "X_train = X_train.select_dtypes(exclude ='object')\n",
    "X_val = X_val.select_dtypes(exclude ='object')\n",
    "X_test = X_test.select_dtypes(exclude ='object')\n",
    "full = full.select_dtypes(exclude ='object').drop(columns='churn')"
   ]
  },
  {
   "cell_type": "markdown",
   "id": "intensive-vietnamese",
   "metadata": {},
   "source": [
    "### Random Forest"
   ]
  },
  {
   "cell_type": "markdown",
   "id": "a48063ca",
   "metadata": {},
   "source": [
    "Use RandomizedSearchCV to fine tune hyperparameters and compare to non-optimized hyperparameters"
   ]
  },
  {
   "cell_type": "code",
   "execution_count": 15,
   "id": "d08f833f",
   "metadata": {},
   "outputs": [
    {
     "name": "stdout",
     "output_type": "stream",
     "text": [
      "Fitting 3 folds for each of 100 candidates, totalling 300 fits\n"
     ]
    },
    {
     "data": {
      "text/plain": [
       "{'n_estimators': 2000,\n",
       " 'min_samples_split': 5,\n",
       " 'min_samples_leaf': 1,\n",
       " 'max_features': 'sqrt',\n",
       " 'max_depth': 10,\n",
       " 'bootstrap': True}"
      ]
     },
     "execution_count": 15,
     "metadata": {},
     "output_type": "execute_result"
    }
   ],
   "source": [
    "# Create range for each hyperparameter\n",
    "from sklearn.model_selection import RandomizedSearchCV\n",
    "n_estimators = [int(x) for x in np.linspace(start = 200, stop = 2000, num = 10)]\n",
    "max_features = ['auto', 'sqrt']\n",
    "max_depth = [int(x) for x in np.linspace(10, 110, num = 11)]\n",
    "max_depth.append(None)\n",
    "min_samples_split = [2, 5, 10]\n",
    "min_samples_leaf = [1, 2, 4]\n",
    "bootstrap = [True, False]\n",
    "# Create the random grid\n",
    "random_grid = {'n_estimators': n_estimators,\n",
    "               'max_features': max_features,\n",
    "               'max_depth': max_depth,\n",
    "               'min_samples_split': min_samples_split,\n",
    "               'min_samples_leaf': min_samples_leaf,\n",
    "               'bootstrap': bootstrap}\n",
    "\n",
    "\n",
    "rf = RandomForestClassifier()\n",
    "rf_random = RandomizedSearchCV(estimator = rf, param_distributions = random_grid, n_iter = 100, cv = 3, verbose=2, random_state=42, n_jobs = -1)\n",
    "\n",
    "# Fit the random search model\n",
    "rf_random.fit(X_train, y_train)\n",
    "\n",
    "rf_random.best_params_"
   ]
  },
  {
   "cell_type": "code",
   "execution_count": 16,
   "id": "colonial-newport",
   "metadata": {},
   "outputs": [
    {
     "name": "stdout",
     "output_type": "stream",
     "text": [
      "Accuracy of Random Forest classifier on training set: 0.77\n",
      "Accuracy of Random Forest classifier on validate set: 0.77\n"
     ]
    }
   ],
   "source": [
    "# RandomForest - sub-optimal parameters\n",
    "rf = RandomForestClassifier(bootstrap=True, \n",
    "                            class_weight=None, \n",
    "                            criterion='gini',\n",
    "                            min_samples_leaf=3,\n",
    "                            n_estimators=100,\n",
    "                            max_depth=3, \n",
    "                            random_state=21)\n",
    "\n",
    "rf.fit(X_train, y_train)\n",
    "y_pred = rf.predict(X_train)\n",
    "y_pred_proba = rf.predict_proba(X_train)\n",
    "print('Accuracy of Random Forest classifier on training set: {:.2f}'\n",
    "     .format(rf.score(X_train, y_train)))\n",
    "print('Accuracy of Random Forest classifier on validate set: {:.2f}'\n",
    "     .format(rf.score(X_val, y_val)))\n",
    "\n"
   ]
  },
  {
   "cell_type": "code",
   "execution_count": 17,
   "id": "6aa23432",
   "metadata": {},
   "outputs": [
    {
     "name": "stdout",
     "output_type": "stream",
     "text": [
      "Accuracy of random forest classifier on training set: 0.85\n",
      "Accuracy of random forest classifier on validation set: 0.82\n"
     ]
    }
   ],
   "source": [
    "# RandomForest - optimal parameters\n",
    "rf = RandomForestClassifier(n_estimators= 200,\n",
    "                             min_samples_split= 5,\n",
    "                             min_samples_leaf= 4,\n",
    "                             max_features= 'auto',\n",
    "                             max_depth= 10,\n",
    "                             bootstrap= True, \n",
    "                            random_state=21)\n",
    "\n",
    "rf.fit(X_train, y_train)\n",
    "y_pred = rf.predict(X_train)\n",
    "y_pred_proba = rf.predict_proba(X_train)\n",
    "print('Accuracy of random forest classifier on training set: {:.2f}'\n",
    "     .format(rf.score(X_train, y_train)))\n",
    "print('Accuracy of random forest classifier on validation set: {:.2f}'\n",
    "     .format(rf.score(X_val, y_val)))"
   ]
  },
  {
   "cell_type": "markdown",
   "id": "c5be8f02",
   "metadata": {},
   "source": [
    "### Logistic Regression"
   ]
  },
  {
   "cell_type": "code",
   "execution_count": 18,
   "id": "5f91aea9",
   "metadata": {},
   "outputs": [
    {
     "name": "stdout",
     "output_type": "stream",
     "text": [
      "Accuracy of Logistic Regression classifier on training set: 0.78\n",
      "Accuracy of Logistic Regression classifier on validation set: 0.81\n"
     ]
    }
   ],
   "source": [
    "# LogisticRegression\n",
    "lr = LogisticRegression(C=1, random_state=21, intercept_scaling=1, solver='lbfgs',max_iter=500)\n",
    "lr.fit(X_train, y_train)\n",
    "y_pred = lr.predict(X_train)\n",
    "y_pred_proba = lr.predict_proba(X_train)\n",
    "print('Accuracy of Logistic Regression classifier on training set: {:.2f}'\n",
    "     .format(lr.score(X_train, y_train)))\n",
    "print('Accuracy of Logistic Regression classifier on validation set: {:.2f}'\n",
    "     .format(lr.score(X_val, y_val)))\n",
    "\n"
   ]
  },
  {
   "cell_type": "markdown",
   "id": "c8a5bc07",
   "metadata": {},
   "source": [
    "### K-Nearest Neighbor"
   ]
  },
  {
   "cell_type": "code",
   "execution_count": 19,
   "id": "2543e0b6",
   "metadata": {},
   "outputs": [
    {
     "name": "stdout",
     "output_type": "stream",
     "text": [
      "Accuracy of KNN classifier on training set: 0.80\n",
      "Accuracy of KNN classifier on validate set: 0.79\n"
     ]
    }
   ],
   "source": [
    "# K-Nearest Neighbor\n",
    "knn = KNeighborsClassifier(n_neighbors=15, weights='uniform')\n",
    "knn.fit(X_train, y_train)\n",
    "\n",
    "print('Accuracy of KNN classifier on training set: {:.2f}'\n",
    "     .format(knn.score(X_train, y_train)))\n",
    "print('Accuracy of KNN classifier on validate set: {:.2f}'\n",
    "     .format(knn.score(X_val, y_val)))\n"
   ]
  },
  {
   "cell_type": "markdown",
   "id": "6a477357",
   "metadata": {},
   "source": [
    "How accurate is KNN using different n_neighbors?"
   ]
  },
  {
   "cell_type": "code",
   "execution_count": 20,
   "id": "c14e968f",
   "metadata": {},
   "outputs": [
    {
     "data": {
      "image/png": "[encoded data removed]",
      "text/plain": [
       "<Figure size 432x288 with 1 Axes>"
      ]
     },
     "metadata": {
      "needs_background": "light"
     },
     "output_type": "display_data"
    }
   ],
   "source": [
    "# Plot accuracy levels for different n_neighbors levels on validate set\n",
    "k_range = range(1, 20)\n",
    "scores = []\n",
    "for k in k_range:\n",
    "    knn = KNeighborsClassifier(n_neighbors = k)\n",
    "    knn.fit(X_train, y_train)\n",
    "    scores.append(knn.score(X_val, y_val))\n",
    "plt.figure()\n",
    "plt.xlabel('k')\n",
    "plt.ylabel('accuracy')\n",
    "plt.scatter(k_range, scores)\n",
    "plt.xticks([0,5,10,15,20])\n",
    "plt.show()"
   ]
  },
  {
   "cell_type": "markdown",
   "id": "59c61ff5",
   "metadata": {},
   "source": [
    "### KNN has the highest non-optimized hyperparameters accuracy score on our validate set with a rate of .79 . We will use this model on our test set"
   ]
  },
  {
   "cell_type": "markdown",
   "id": "regulated-fellowship",
   "metadata": {},
   "source": [
    "### Test Model\n",
    "* We will use our KNN model on our Test set as it performed best on our Validate set\n"
   ]
  },
  {
   "cell_type": "code",
   "execution_count": 21,
   "id": "optical-quilt",
   "metadata": {},
   "outputs": [
    {
     "name": "stdout",
     "output_type": "stream",
     "text": [
      "Accuracy of KNN classifier on test set: 0.77\n",
      "Compared to accuracy of KNN classifier on validate set: 0.78\n"
     ]
    }
   ],
   "source": [
    "# Code that runs the best overall model on test data (this may be imported from a module)\n",
    "print('Accuracy of KNN classifier on test set: {:.2f}'\n",
    "     .format(knn.score(X_test, y_test)))\n",
    "print('Compared to accuracy of KNN classifier on validate set: {:.2f}'\n",
    "     .format(knn.score(X_val, y_val)))"
   ]
  },
  {
   "cell_type": "markdown",
   "id": "bright-evans",
   "metadata": {},
   "source": [
    "### Modeling Wrap \n",
    "Using a KNN model we were able to improve the accuracy of our baseline of 73% accuracy to expected 77% accuracy."
   ]
  },
  {
   "cell_type": "markdown",
   "id": "52c92dfa",
   "metadata": {},
   "source": [
    "Now we will create a csv of each customer and our prediction and probability that they will churn"
   ]
  },
  {
   "cell_type": "code",
   "execution_count": 22,
   "id": "4762a527",
   "metadata": {},
   "outputs": [],
   "source": [
    "# Predict full data and concatenate customer_id with prediction and probability\n",
    "y_pred = knn.predict(full)\n",
    "y_pred_proba = knn.predict_proba(full)\n",
    "y_pred = pd.Series(y_pred)\n",
    "y_pred_proba = pd.DataFrame(y_pred_proba)\n",
    "y_pred_proba = y_pred_proba.iloc[:,1]\n",
    "pred = pd.concat([customer_id,y_pred,y_pred_proba],axis=1)\n",
    "pred.columns = ['customer_id','prediction','probability']"
   ]
  },
  {
   "cell_type": "code",
   "execution_count": null,
   "id": "e3451642",
   "metadata": {},
   "outputs": [],
   "source": [
    "# Save predictions to csv\n",
    "pred.to_csv('predictions.csv')"
   ]
  },
  {
   "cell_type": "markdown",
   "id": "tutorial-twelve",
   "metadata": {},
   "source": [
    "## Conclusion\n",
    "\n",
    "### Key Findings\n",
    "Every churned customer churned on the exact same date. Unless there was some apocopyptic business event, this makes me question the validity of the whole data. Every feature I investigated had a statistically significant relationship to churn. Again, this makes me question the validity of the data. If everything is a driver, then nothing is a driver.\n",
    "\n",
    "### Recommendations\n",
    "I suggest that this data's validity need to be investigated. Business decisions should not be made from bad data.\n",
    "\n",
    "### Next Steps\n",
    "I would investigate the data source and attempt to obtain better data."
   ]
  },
  {
   "cell_type": "code",
   "execution_count": null,
   "id": "a8234c70",
   "metadata": {},
   "outputs": [],
   "source": []
  }
 ],
 "metadata": {
  "kernelspec": {
   "display_name": "Python 3 (ipykernel)",
   "language": "python",
   "name": "python3"
  },
  "language_info": {
   "codemirror_mode": {
    "name": "ipython",
    "version": 3
   },
   "file_extension": ".py",
   "mimetype": "text/x-python",
   "name": "python",
   "nbconvert_exporter": "python",
   "pygments_lexer": "ipython3",
   "version": "3.9.7"
  }
 },
 "nbformat": 4,
 "nbformat_minor": 5
}
