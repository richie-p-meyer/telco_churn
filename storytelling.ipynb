{
 "cells": [
  {
   "cell_type": "code",
   "execution_count": 1,
   "id": "f9361e69",
   "metadata": {},
   "outputs": [],
   "source": [
    "# import libraries and modules\n",
    "import acquire\n",
    "import prepare\n",
    "import pandas as pd\n",
    "import numpy as np\n",
    "import matplotlib.pyplot as plt\n",
    "import seaborn as sns\n",
    "import scipy.stats as stats\n",
    "\n",
    "from sklearn.model_selection import train_test_split\n",
    "from sklearn.tree import DecisionTreeClassifier, plot_tree\n",
    "from sklearn.metrics import classification_report, confusion_matrix, plot_confusion_matrix, accuracy_score, precision_score, recall_score\n",
    "from sklearn.ensemble import RandomForestClassifier\n",
    "from sklearn.linear_model import LogisticRegression\n",
    "from sklearn.neighbors import KNeighborsClassifier\n",
    "\n"
   ]
  },
  {
   "cell_type": "code",
   "execution_count": 2,
   "id": "4c26e33b",
   "metadata": {},
   "outputs": [
    {
     "name": "stdout",
     "output_type": "stream",
     "text": [
      "Rows, Columns  (7043, 25) \n",
      "\n",
      "Index(['customer_id', 'payment_type_id', 'internet_service_type_id',\n",
      "       'contract_type_id', 'gender', 'senior_citizen', 'partner', 'dependents',\n",
      "       'tenure', 'phone_service', 'multiple_lines', 'online_security',\n",
      "       'online_backup', 'device_protection', 'tech_support', 'streaming_tv',\n",
      "       'streaming_movies', 'paperless_billing', 'monthly_charges',\n",
      "       'total_charges', 'churn', 'contract_type', 'internet_service_type',\n",
      "       'payment_type', 'churn_month'],\n",
      "      dtype='object')\n"
     ]
    }
   ],
   "source": [
    "# Acquire data \n",
    "df = acquire.get_telco_data()  # Import data using acquire file\n",
    "print('Rows, Columns ',df.shape,'\\n') #View shape of df\n",
    "print(df.columns) #View column names"
   ]
  },
  {
   "cell_type": "code",
   "execution_count": 3,
   "id": "24da2c2c",
   "metadata": {},
   "outputs": [],
   "source": [
    "df, customer_id = prepare.prep_telco(df) # Clean df\n"
   ]
  },
  {
   "cell_type": "code",
   "execution_count": 4,
   "id": "52bcc05e",
   "metadata": {},
   "outputs": [],
   "source": [
    "#split data into full, train, validate, test\n",
    "full, train, X_train, y_train, X_val, y_val, X_test, y_test = prepare.split_data(df,'churn') "
   ]
  },
  {
   "cell_type": "code",
   "execution_count": 10,
   "id": "e7eb1898",
   "metadata": {},
   "outputs": [],
   "source": [
    "train = train[train.contract_type=='Month-to-month']"
   ]
  },
  {
   "cell_type": "code",
   "execution_count": 11,
   "id": "bfd081a9",
   "metadata": {},
   "outputs": [
    {
     "data": {
      "text/plain": [
       "(2173, 31)"
      ]
     },
     "execution_count": 11,
     "metadata": {},
     "output_type": "execute_result"
    }
   ],
   "source": [
    "train.shape"
   ]
  },
  {
   "cell_type": "code",
   "execution_count": null,
   "id": "e035d57c",
   "metadata": {},
   "outputs": [],
   "source": []
  }
 ],
 "metadata": {
  "kernelspec": {
   "display_name": "Python 3 (ipykernel)",
   "language": "python",
   "name": "python3"
  },
  "language_info": {
   "codemirror_mode": {
    "name": "ipython",
    "version": 3
   },
   "file_extension": ".py",
   "mimetype": "text/x-python",
   "name": "python",
   "nbconvert_exporter": "python",
   "pygments_lexer": "ipython3",
   "version": "3.9.7"
  }
 },
 "nbformat": 4,
 "nbformat_minor": 5
}
